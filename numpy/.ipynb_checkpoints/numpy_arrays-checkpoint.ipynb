{
 "cells": [
  {
   "cell_type": "markdown",
   "metadata": {},
   "source": [
    "# NumPy Arrays"
   ]
  },
  {
   "cell_type": "code",
   "execution_count": 132,
   "metadata": {},
   "outputs": [
    {
     "data": {
      "text/plain": [
       "[1, 2, 3]"
      ]
     },
     "execution_count": 132,
     "metadata": {},
     "output_type": "execute_result"
    }
   ],
   "source": [
    "# a typical python list\n",
    "regular_list = [1, 2, 3]\n",
    "\n",
    "# note how Jupyter Notebook shows the last object returned\n",
    "regular_list"
   ]
  },
  {
   "cell_type": "code",
   "execution_count": 133,
   "metadata": {},
   "outputs": [],
   "source": [
    "# import the numpy module\n",
    "import numpy as np"
   ]
  },
  {
   "cell_type": "code",
   "execution_count": 134,
   "metadata": {},
   "outputs": [
    {
     "data": {
      "text/plain": [
       "array([1, 2, 3])"
      ]
     },
     "execution_count": 134,
     "metadata": {},
     "output_type": "execute_result"
    }
   ],
   "source": [
    "# convert the python list into a numpy vector (1D Array)\n",
    "numpy_vector = np.array(regular_list)\n",
    "\n",
    "numpy_vector"
   ]
  },
  {
   "cell_type": "code",
   "execution_count": 135,
   "metadata": {},
   "outputs": [
    {
     "data": {
      "text/plain": [
       "[[1, 2, 3], [4, 5, 6], [7, 8, 9]]"
      ]
     },
     "execution_count": 135,
     "metadata": {},
     "output_type": "execute_result"
    }
   ],
   "source": [
    "# a typical python list of lists\n",
    "regular_list_of_lists = [[1, 2, 3], [4, 5, 6], [7, 8, 9]]\n",
    "\n",
    "regular_list_of_lists"
   ]
  },
  {
   "cell_type": "code",
   "execution_count": 136,
   "metadata": {},
   "outputs": [
    {
     "data": {
      "text/plain": [
       "array([[1, 2, 3],\n",
       "       [4, 5, 6],\n",
       "       [7, 8, 9]])"
      ]
     },
     "execution_count": 136,
     "metadata": {},
     "output_type": "execute_result"
    }
   ],
   "source": [
    "# convert the python list of lists into a numpy matrix (2D Array)\n",
    "numpy_matrix = np.array(regular_list_of_lists)\n",
    "\n",
    "numpy_matrix"
   ]
  },
  {
   "cell_type": "markdown",
   "metadata": {},
   "source": [
    "### NumPy Methods"
   ]
  },
  {
   "cell_type": "code",
   "execution_count": 137,
   "metadata": {},
   "outputs": [
    {
     "name": "stdout",
     "output_type": "stream",
     "text": [
      "[0 1 2 3 4 5 6 7 8 9]\n",
      "[0 2 4 6 8]\n"
     ]
    }
   ],
   "source": [
    "# return a numpy Array from start, stop - 1 in incrementing order\n",
    "print(np.arange(0, 10))\n",
    "\n",
    "# return a numpy Array from start, stop - 1 based on the step size\n",
    "print(np.arange(0, 10, 2))"
   ]
  },
  {
   "cell_type": "code",
   "execution_count": 138,
   "metadata": {},
   "outputs": [
    {
     "name": "stdout",
     "output_type": "stream",
     "text": [
      "[0. 0. 0.]\n",
      "\n",
      "[[0. 0. 0.]\n",
      " [0. 0. 0.]]\n"
     ]
    }
   ],
   "source": [
    "# return a numpy Array of zeros as a 1D Array using a constant size\n",
    "print(np.zeros(3))\n",
    "print()\n",
    "\n",
    "# return a numpy Array of zeroes as a 2D Array using a tuple of row, column\n",
    "print(np.zeros((2, 3)))"
   ]
  },
  {
   "cell_type": "code",
   "execution_count": 139,
   "metadata": {},
   "outputs": [
    {
     "name": "stdout",
     "output_type": "stream",
     "text": [
      "[1. 1. 1.]\n",
      "\n",
      "[[1. 1. 1.]\n",
      " [1. 1. 1.]]\n"
     ]
    }
   ],
   "source": [
    "# return of a numpy Array of ones (works the same as np.zeros)\n",
    "print(np.ones(3)) # array([1., 1., 1.])\n",
    "print()\n",
    "print(np.ones((2, 3))) # array([[1., 1., 1.], [1., 1., 1.]])"
   ]
  },
  {
   "cell_type": "code",
   "execution_count": 140,
   "metadata": {},
   "outputs": [
    {
     "data": {
      "text/plain": [
       "array([0.        , 0.55555556, 1.11111111, 1.66666667, 2.22222222,\n",
       "       2.77777778, 3.33333333, 3.88888889, 4.44444444, 5.        ])"
      ]
     },
     "execution_count": 140,
     "metadata": {},
     "output_type": "execute_result"
    }
   ],
   "source": [
    "# return a 1D numpy Array from start, stop with evenly spaced points\n",
    "np.linspace(0, 5, 10)"
   ]
  },
  {
   "cell_type": "code",
   "execution_count": 141,
   "metadata": {},
   "outputs": [
    {
     "data": {
      "text/plain": [
       "array([[1., 0., 0., 0.],\n",
       "       [0., 1., 0., 0.],\n",
       "       [0., 0., 1., 0.],\n",
       "       [0., 0., 0., 1.]])"
      ]
     },
     "execution_count": 141,
     "metadata": {},
     "output_type": "execute_result"
    }
   ],
   "source": [
    "\"\"\"\n",
    "return an identity matrix:\n",
    "in linear algebra, a square matrix where the diagonal\n",
    "consists of 1 and everything else consists of 0s\n",
    "\"\"\"\n",
    "np.eye(4)"
   ]
  },
  {
   "cell_type": "code",
   "execution_count": 142,
   "metadata": {},
   "outputs": [
    {
     "name": "stdout",
     "output_type": "stream",
     "text": [
      "[0.43284332 0.11968477 0.53416034 0.1124106  0.46441024]\n",
      "[[0.95021635 0.21029933 0.55632362 0.34404573 0.10221075]\n",
      " [0.22026588 0.06783332 0.16812333 0.55426702 0.74200597]\n",
      " [0.28229191 0.76255592 0.49599673 0.77087292 0.84083719]\n",
      " [0.97726389 0.8464717  0.673766   0.58158444 0.12985936]\n",
      " [0.23824209 0.81369975 0.19765196 0.1129901  0.21024146]]\n"
     ]
    }
   ],
   "source": [
    "\"\"\"\n",
    "return a 1D Array with random values from 0 to a number less than 1 of size\n",
    "\"\"\"\n",
    "print(np.random.rand(5))\n",
    "\n",
    "\"\"\"\n",
    "return a 2D Array with random values from 0\n",
    "to a number less than 1 of tuple row, column\n",
    "\n",
    "unlike other methods, you do not need to pass a tuple\n",
    "and only need to pass the size parameters into rand()\n",
    "\"\"\"\n",
    "print(np.random.rand(5, 5))"
   ]
  },
  {
   "cell_type": "code",
   "execution_count": 143,
   "metadata": {},
   "outputs": [
    {
     "name": "stdout",
     "output_type": "stream",
     "text": [
      "[-0.3592627  -0.89665283]\n",
      "\n",
      "[[-1.88404239  0.39151795  0.21851724  1.01659973]\n",
      " [-1.63657138  0.43117316  0.96441746  0.65266849]\n",
      " [-0.03096477  0.10357231 -1.56559955 -0.76408518]\n",
      " [ 1.20137225 -2.14679886 -0.15382586  2.3873291 ]]\n"
     ]
    }
   ],
   "source": [
    "\"\"\"\n",
    "return an Array with random values from a non-uniform distribution of\n",
    "random values, uses a standard normal distribution/gaussian distribution\n",
    "\"\"\"\n",
    "print(np.random.randn(2))\n",
    "print()\n",
    "print(np.random.randn(4, 4))"
   ]
  },
  {
   "cell_type": "code",
   "execution_count": 144,
   "metadata": {},
   "outputs": [
    {
     "name": "stdout",
     "output_type": "stream",
     "text": [
      "16\n",
      "[31 26 61 17 27 66 45 65 51 19]\n"
     ]
    }
   ],
   "source": [
    "# return a random integer between low, high - 1\n",
    "print(np.random.randint(1, 100))\n",
    "\n",
    "# return a 1D Array of size amount of random integers from low, high - 1\n",
    "print(np.random.randint(1, 100, 10))"
   ]
  },
  {
   "cell_type": "markdown",
   "metadata": {},
   "source": [
    "### Useful Attributes of a NumPy Array"
   ]
  },
  {
   "cell_type": "code",
   "execution_count": 145,
   "metadata": {},
   "outputs": [
    {
     "name": "stdout",
     "output_type": "stream",
     "text": [
      "[0 1 2 3 4 5 6 7 8 9]\n",
      "\n",
      "[46 25 20 47 18 19 44 19 28 19]\n",
      "\n",
      "[[0 1 2 3 4]\n",
      " [5 6 7 8 9]]\n"
     ]
    }
   ],
   "source": [
    "# create a numpy Array from 0 to 9\n",
    "arr = np.arange(10)\n",
    "print(arr)\n",
    "print()\n",
    "\n",
    "# create a numpy Array of 10 random values randomly selected from 0 to 49\n",
    "ranarr = np.random.randint(0, 50, 10)\n",
    "print(ranarr)\n",
    "print()\n",
    "\n",
    "\"\"\"\n",
    "return a re-shape of the arr Array with 2 rows and 5 columns\n",
    "Note: row * column must equal the Array's size\n",
    "\"\"\"\n",
    "print(arr.reshape(2, 5))"
   ]
  },
  {
   "cell_type": "code",
   "execution_count": 146,
   "metadata": {},
   "outputs": [
    {
     "name": "stdout",
     "output_type": "stream",
     "text": [
      "47\n",
      "3\n"
     ]
    }
   ],
   "source": [
    "# return the maximum value in an Array\n",
    "print(ranarr.max())\n",
    "\n",
    "# return the index of the maximum value in an Array (0-based indexing)\n",
    "print(ranarr.argmax())"
   ]
  },
  {
   "cell_type": "code",
   "execution_count": 147,
   "metadata": {},
   "outputs": [
    {
     "name": "stdout",
     "output_type": "stream",
     "text": [
      "18\n",
      "4\n"
     ]
    }
   ],
   "source": [
    "# return the minimum value in an Array\n",
    "print(ranarr.min())\n",
    "\n",
    "# return the index of the minimum value in an Array (0-based indexing)\n",
    "print(ranarr.argmin())"
   ]
  },
  {
   "cell_type": "code",
   "execution_count": 148,
   "metadata": {},
   "outputs": [
    {
     "name": "stdout",
     "output_type": "stream",
     "text": [
      "(10,)\n",
      "(10,)\n",
      "(2, 5)\n"
     ]
    }
   ],
   "source": [
    "# return the shape (dimensions) of an Array\n",
    "print(ranarr.shape)\n",
    "print(arr.shape)\n",
    "print(arr.reshape(2, 5).shape)"
   ]
  },
  {
   "cell_type": "code",
   "execution_count": 149,
   "metadata": {},
   "outputs": [
    {
     "data": {
      "text/plain": [
       "dtype('int32')"
      ]
     },
     "execution_count": 149,
     "metadata": {},
     "output_type": "execute_result"
    }
   ],
   "source": [
    "# return the data-types of an Array\n",
    "arr.dtype"
   ]
  }
 ],
 "metadata": {
  "kernelspec": {
   "display_name": "Python 3",
   "language": "python",
   "name": "python3"
  },
  "language_info": {
   "codemirror_mode": {
    "name": "ipython",
    "version": 3
   },
   "file_extension": ".py",
   "mimetype": "text/x-python",
   "name": "python",
   "nbconvert_exporter": "python",
   "pygments_lexer": "ipython3",
   "version": "3.7.1"
  }
 },
 "nbformat": 4,
 "nbformat_minor": 2
}
