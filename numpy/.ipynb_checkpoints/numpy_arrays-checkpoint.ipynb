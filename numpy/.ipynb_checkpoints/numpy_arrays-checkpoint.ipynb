{
 "cells": [
  {
   "cell_type": "markdown",
   "metadata": {},
   "source": [
    "# NumPy Arrays"
   ]
  },
  {
   "cell_type": "code",
   "execution_count": 19,
   "metadata": {},
   "outputs": [
    {
     "data": {
      "text/plain": [
       "[1, 2, 3]"
      ]
     },
     "execution_count": 19,
     "metadata": {},
     "output_type": "execute_result"
    }
   ],
   "source": [
    "# a typical python list\n",
    "regular_list = [1, 2, 3]\n",
    "\n",
    "# note how Jupyter Notebook shows the last object returned\n",
    "regular_list"
   ]
  },
  {
   "cell_type": "code",
   "execution_count": 20,
   "metadata": {},
   "outputs": [],
   "source": [
    "# import the numpy module\n",
    "import numpy as np"
   ]
  },
  {
   "cell_type": "code",
   "execution_count": 21,
   "metadata": {},
   "outputs": [
    {
     "data": {
      "text/plain": [
       "array([1, 2, 3])"
      ]
     },
     "execution_count": 21,
     "metadata": {},
     "output_type": "execute_result"
    }
   ],
   "source": [
    "# convert the python list into a numpy vector (1D Array)\n",
    "numpy_vector = np.array(regular_list)\n",
    "\n",
    "numpy_vector"
   ]
  },
  {
   "cell_type": "code",
   "execution_count": 22,
   "metadata": {},
   "outputs": [
    {
     "data": {
      "text/plain": [
       "[[1, 2, 3], [4, 5, 6], [7, 8, 9]]"
      ]
     },
     "execution_count": 22,
     "metadata": {},
     "output_type": "execute_result"
    }
   ],
   "source": [
    "# a typical python list of lists\n",
    "regular_list_of_lists = [[1, 2, 3], [4, 5, 6], [7, 8, 9]]\n",
    "\n",
    "regular_list_of_lists"
   ]
  },
  {
   "cell_type": "code",
   "execution_count": 23,
   "metadata": {},
   "outputs": [
    {
     "data": {
      "text/plain": [
       "array([[1, 2, 3],\n",
       "       [4, 5, 6],\n",
       "       [7, 8, 9]])"
      ]
     },
     "execution_count": 23,
     "metadata": {},
     "output_type": "execute_result"
    }
   ],
   "source": [
    "# convert the python list of lists into a numpy matrix (2D Array)\n",
    "numpy_matrix = np.array(regular_list_of_lists)\n",
    "\n",
    "numpy_matrix"
   ]
  },
  {
   "cell_type": "markdown",
   "metadata": {},
   "source": [
    "### NumPy Methods"
   ]
  },
  {
   "cell_type": "code",
   "execution_count": 24,
   "metadata": {},
   "outputs": [
    {
     "name": "stdout",
     "output_type": "stream",
     "text": [
      "[0 1 2 3 4 5 6 7 8 9]\n",
      "[0 2 4 6 8]\n"
     ]
    }
   ],
   "source": [
    "# return a numpy Array from start, stop - 1 in incrementing order\n",
    "print(np.arange(0, 10))\n",
    "\n",
    "# return a numpy Array from start, stop - 1 based on the step size\n",
    "print(np.arange(0, 10, 2))"
   ]
  },
  {
   "cell_type": "code",
   "execution_count": 25,
   "metadata": {},
   "outputs": [
    {
     "name": "stdout",
     "output_type": "stream",
     "text": [
      "[0. 0. 0.]\n",
      "\n",
      "[[0. 0. 0.]\n",
      " [0. 0. 0.]]\n"
     ]
    }
   ],
   "source": [
    "# return a numpy Array of zeros as a 1D Array using a constant size\n",
    "print(np.zeros(3))\n",
    "print()\n",
    "\n",
    "# return a numpy Array of zeroes as a 2D Array using a tuple of row, column\n",
    "print(np.zeros((2, 3)))"
   ]
  },
  {
   "cell_type": "code",
   "execution_count": 26,
   "metadata": {},
   "outputs": [
    {
     "name": "stdout",
     "output_type": "stream",
     "text": [
      "[1. 1. 1.]\n",
      "\n",
      "[[1. 1. 1.]\n",
      " [1. 1. 1.]]\n"
     ]
    }
   ],
   "source": [
    "# return of a numpy Array of ones (works the same as np.zeros)\n",
    "print(np.ones(3)) # array([1., 1., 1.])\n",
    "print()\n",
    "print(np.ones((2, 3))) # array([[1., 1., 1.], [1., 1., 1.]])"
   ]
  },
  {
   "cell_type": "code",
   "execution_count": 27,
   "metadata": {},
   "outputs": [
    {
     "data": {
      "text/plain": [
       "array([0. , 0.5, 1. , 1.5, 2. , 2.5, 3. , 3.5, 4. , 4.5, 5. ])"
      ]
     },
     "execution_count": 27,
     "metadata": {},
     "output_type": "execute_result"
    }
   ],
   "source": [
    "# return a 1D numpy Array from start, stop with 11 evenly spaced points\n",
    "np.linspace(0, 5, 11)"
   ]
  },
  {
   "cell_type": "code",
   "execution_count": 28,
   "metadata": {},
   "outputs": [
    {
     "data": {
      "text/plain": [
       "array([[1., 0., 0., 0.],\n",
       "       [0., 1., 0., 0.],\n",
       "       [0., 0., 1., 0.],\n",
       "       [0., 0., 0., 1.]])"
      ]
     },
     "execution_count": 28,
     "metadata": {},
     "output_type": "execute_result"
    }
   ],
   "source": [
    "\"\"\"\n",
    "return an identity matrix:\n",
    "in linear algebra, a square matrix where the diagonal\n",
    "consists of 1 and everything else consists of 0s\n",
    "\"\"\"\n",
    "np.eye(4)"
   ]
  },
  {
   "cell_type": "code",
   "execution_count": 29,
   "metadata": {},
   "outputs": [
    {
     "name": "stdout",
     "output_type": "stream",
     "text": [
      "[0.38915506 0.32373701 0.75480141 0.03669155 0.58492481]\n",
      "[[0.84428732 0.13135683 0.13550112 0.98774073 0.46224822]\n",
      " [0.99909203 0.91556992 0.91362088 0.82521564 0.61956775]\n",
      " [0.40149442 0.80340068 0.16788717 0.17820011 0.78403815]\n",
      " [0.99811427 0.60127409 0.29512001 0.11996248 0.28356253]\n",
      " [0.73431917 0.86922907 0.12887653 0.21684255 0.17493338]]\n"
     ]
    }
   ],
   "source": [
    "\"\"\"\n",
    "return a 1D Array with random values from 0 to a number less than 1 of size\n",
    "\"\"\"\n",
    "print(np.random.rand(5))\n",
    "\n",
    "\"\"\"\n",
    "return a 2D Array with random values from 0\n",
    "to a number less than 1 of tuple row, column\n",
    "\n",
    "unlike other methods, you do not need to pass a tuple\n",
    "and only need to pass the size parameters into rand()\n",
    "\"\"\"\n",
    "print(np.random.rand(5, 5))"
   ]
  },
  {
   "cell_type": "code",
   "execution_count": 30,
   "metadata": {},
   "outputs": [
    {
     "name": "stdout",
     "output_type": "stream",
     "text": [
      "[0.96698107 0.95314348]\n",
      "\n",
      "[[-0.47628667  0.10887141  1.15014777 -0.6722314 ]\n",
      " [ 1.70653459  0.14455441 -1.08850514 -0.09574619]\n",
      " [-0.59498397  1.64527956 -0.27701283  0.30135324]\n",
      " [ 1.0874345   0.576935   -0.71498876 -0.91961853]]\n"
     ]
    }
   ],
   "source": [
    "\"\"\"\n",
    "return an Array with random values from a non-uniform distribution of\n",
    "random values, uses a standard normal distribution/gaussian distribution\n",
    "\"\"\"\n",
    "print(np.random.randn(2))\n",
    "print()\n",
    "print(np.random.randn(4, 4))"
   ]
  },
  {
   "cell_type": "code",
   "execution_count": 31,
   "metadata": {},
   "outputs": [
    {
     "name": "stdout",
     "output_type": "stream",
     "text": [
      "29\n",
      "[59 25 53 94 31 93 30 37 68 61]\n"
     ]
    }
   ],
   "source": [
    "# return a random integer between low, high - 1\n",
    "print(np.random.randint(1, 100))\n",
    "\n",
    "# return a 1D Array of size amount of random integers from low, high - 1\n",
    "print(np.random.randint(1, 100, 10))"
   ]
  },
  {
   "cell_type": "markdown",
   "metadata": {},
   "source": [
    "### Useful Attributes of a NumPy Array"
   ]
  },
  {
   "cell_type": "code",
   "execution_count": 32,
   "metadata": {},
   "outputs": [
    {
     "name": "stdout",
     "output_type": "stream",
     "text": [
      "[0 1 2 3 4 5 6 7 8 9]\n",
      "\n",
      "[ 0  0 48  4 10  8  8 24 48 36]\n",
      "\n",
      "[[0 1 2 3 4]\n",
      " [5 6 7 8 9]]\n"
     ]
    }
   ],
   "source": [
    "# create a numpy Array from 0 to 9\n",
    "arr = np.arange(10)\n",
    "print(arr)\n",
    "print()\n",
    "\n",
    "# create a numpy Array of 10 random values randomly selected from 0 to 49\n",
    "ranarr = np.random.randint(0, 50, 10)\n",
    "print(ranarr)\n",
    "print()\n",
    "\n",
    "\"\"\"\n",
    "return a re-shape of the arr Array with 2 rows and 5 columns\n",
    "Note: row * column must equal the Array's size\n",
    "\"\"\"\n",
    "print(arr.reshape(2, 5))"
   ]
  },
  {
   "cell_type": "code",
   "execution_count": 33,
   "metadata": {},
   "outputs": [
    {
     "name": "stdout",
     "output_type": "stream",
     "text": [
      "48\n",
      "2\n"
     ]
    }
   ],
   "source": [
    "# return the maximum value in an Array\n",
    "print(ranarr.max())\n",
    "\n",
    "# return the index of the maximum value in an Array (0-based indexing)\n",
    "print(ranarr.argmax())"
   ]
  },
  {
   "cell_type": "code",
   "execution_count": 34,
   "metadata": {},
   "outputs": [
    {
     "name": "stdout",
     "output_type": "stream",
     "text": [
      "0\n",
      "0\n"
     ]
    }
   ],
   "source": [
    "# return the minimum value in an Array\n",
    "print(ranarr.min())\n",
    "\n",
    "# return the index of the minimum value in an Array (0-based indexing)\n",
    "print(ranarr.argmin())"
   ]
  },
  {
   "cell_type": "code",
   "execution_count": 35,
   "metadata": {},
   "outputs": [
    {
     "name": "stdout",
     "output_type": "stream",
     "text": [
      "(10,)\n",
      "(10,)\n",
      "(2, 5)\n"
     ]
    }
   ],
   "source": [
    "# return the shape (dimensions) of an Array\n",
    "print(ranarr.shape)\n",
    "print(arr.shape)\n",
    "print(arr.reshape(2, 5).shape)"
   ]
  },
  {
   "cell_type": "code",
   "execution_count": 36,
   "metadata": {},
   "outputs": [
    {
     "data": {
      "text/plain": [
       "dtype('int32')"
      ]
     },
     "execution_count": 36,
     "metadata": {},
     "output_type": "execute_result"
    }
   ],
   "source": [
    "# return the data-types of an Array\n",
    "arr.dtype"
   ]
  }
 ],
 "metadata": {
  "kernelspec": {
   "display_name": "Python 3",
   "language": "python",
   "name": "python3"
  },
  "language_info": {
   "codemirror_mode": {
    "name": "ipython",
    "version": 3
   },
   "file_extension": ".py",
   "mimetype": "text/x-python",
   "name": "python",
   "nbconvert_exporter": "python",
   "pygments_lexer": "ipython3",
   "version": "3.7.1"
  }
 },
 "nbformat": 4,
 "nbformat_minor": 2
}
