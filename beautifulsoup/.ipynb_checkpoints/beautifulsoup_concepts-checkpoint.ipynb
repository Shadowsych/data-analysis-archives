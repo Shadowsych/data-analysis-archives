{
 "cells": [
  {
   "cell_type": "markdown",
   "metadata": {},
   "source": [
    "# BeautifulSoup Concepts"
   ]
  },
  {
   "cell_type": "code",
   "execution_count": 47,
   "metadata": {},
   "outputs": [],
   "source": [
    "# import beautifulsoup4 and the Python request module\n",
    "from bs4 import BeautifulSoup as soup\n",
    "from urllib.request import urlopen as u_req"
   ]
  },
  {
   "cell_type": "code",
   "execution_count": 48,
   "metadata": {},
   "outputs": [],
   "source": [
    "# we're going to web-scrape the newegg graphics card page\n",
    "my_url = \"https://www.newegg.com/Video-Cards-Video-Devices/Category/ID-38?Tpk=graphics%20cards\"\n",
    "\n",
    "# download the web page by opening the connection and reading the website\n",
    "web_client = u_req(my_url)\n",
    "\n",
    "# read the html of the web page\n",
    "page_html = web_client.read()\n",
    "\n",
    "# close the connection to the web page\n",
    "web_client.close()"
   ]
  },
  {
   "cell_type": "code",
   "execution_count": 49,
   "metadata": {},
   "outputs": [],
   "source": [
    "# parse the html of the web page using beautiful soup\n",
    "page_soup = soup(page_html, \"html.parser\")"
   ]
  },
  {
   "cell_type": "code",
   "execution_count": 50,
   "metadata": {},
   "outputs": [
    {
     "data": {
      "text/plain": [
       "<h1 class=\"page-title-text\">Video Cards &amp; Video Devices</h1>"
      ]
     },
     "execution_count": 50,
     "metadata": {},
     "output_type": "execute_result"
    }
   ],
   "source": [
    "# return the header (h1 tag) of the page\n",
    "page_soup.h1"
   ]
  },
  {
   "cell_type": "code",
   "execution_count": 51,
   "metadata": {},
   "outputs": [
    {
     "data": {
      "text/plain": [
       "12"
      ]
     },
     "execution_count": 51,
     "metadata": {},
     "output_type": "execute_result"
    }
   ],
   "source": [
    "# find all div elements with the class \"item-container\", return as list\n",
    "containers = page_soup.findAll(\"div\", {\"class\": \"item-container\"})\n",
    "\n",
    "# return the number of elements found\n",
    "len(containers)"
   ]
  },
  {
   "cell_type": "code",
   "execution_count": 52,
   "metadata": {},
   "outputs": [
    {
     "name": "stdout",
     "output_type": "stream",
     "text": [
      "ASUS\n",
      "ASUS ROG STRIX GeForce RTX 2080 Overclocked 8G GDDR6 HDMI DP 1.4 USB Type-C (ROG-STRIX-RTX2080-O8G-GAMING)\n"
     ]
    }
   ],
   "source": [
    "# contains the first graphics card's html\n",
    "container = containers[0]\n",
    "\n",
    "# return the \"item-info\" div\n",
    "item_info_container = container.find(\"div\", {\"class\": \"item-info\"})\n",
    "\n",
    "# return the name of the card's brand, by grabbing the img's \"title\" prop\n",
    "brand = item_info_container.div.a.img[\"title\"]\n",
    "\n",
    "# return the \"item-title\" div\n",
    "title_container = container.find(\"a\", {\"class\": \"item-title\"})\n",
    "\n",
    "# return the name of the graphics card\n",
    "product_name = title_container.text\n",
    "\n",
    "# now let's print the brand and product_name of the first graphics card\n",
    "print(brand)\n",
    "print(product_name)"
   ]
  },
  {
   "cell_type": "markdown",
   "metadata": {},
   "source": [
    "### Iterating Through Every Item And Place Into a CSV"
   ]
  },
  {
   "cell_type": "code",
   "execution_count": 58,
   "metadata": {},
   "outputs": [],
   "source": [
    "# create and open the graphics_cards.csv file\n",
    "file = \"scraped_outputs/graphics_cards.csv\"\n",
    "file = open(file, \"w\")\n",
    "\n",
    "\"\"\"\n",
    "set the headers (columns) of the csv file,\n",
    "deliminate each column by a comma and each row by a new line (csv format)\n",
    "\"\"\"\n",
    "headers = \"brand, product_name, shipping\\n\"\n",
    "file.write(headers)\n",
    "\n",
    "# iterate through each container\n",
    "for container in containers:\n",
    "    # grab the brand name of the graphics card\n",
    "    item_info_container = container.find(\"div\", {\"class\": \"item-info\"})\n",
    "    brand = item_info_container.div.a.img[\"title\"]\n",
    "    \n",
    "    # grab the product name of the graphics card\n",
    "    title_container = container.find(\"a\", {\"class\": \"item-title\"})\n",
    "    product_name = title_container.text\n",
    "    \n",
    "    # grab the shipping information of the graphics card\n",
    "    shipping_container = container.find(\"li\", {\"class\": \"price-ship\"})\n",
    "    shipping = shipping_container.text.strip()\n",
    "    \n",
    "    # replace all commas with a pipe to prevent csv parsing jankiness\n",
    "    brand = brand.replace(\",\", \"|\")\n",
    "    product_name = product_name.replace(\",\", \"|\")\n",
    "    shipping = shipping.replace(\",\", \"|\")\n",
    "    \n",
    "    # write the information into the csv file\n",
    "    file.write(brand + \",\" + product_name + \",\" + shipping + \"\\n\")\n",
    "    \n",
    "# close the file (must close to save the data into the csv file)\n",
    "file.close()"
   ]
  }
 ],
 "metadata": {
  "kernelspec": {
   "display_name": "Python 3",
   "language": "python",
   "name": "python3"
  },
  "language_info": {
   "codemirror_mode": {
    "name": "ipython",
    "version": 3
   },
   "file_extension": ".py",
   "mimetype": "text/x-python",
   "name": "python",
   "nbconvert_exporter": "python",
   "pygments_lexer": "ipython3",
   "version": "3.7.1"
  }
 },
 "nbformat": 4,
 "nbformat_minor": 2
}
