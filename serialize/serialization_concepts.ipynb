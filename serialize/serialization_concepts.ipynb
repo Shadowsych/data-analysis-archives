{
 "cells": [
  {
   "cell_type": "markdown",
   "metadata": {},
   "source": [
    "# Pickle"
   ]
  },
  {
   "cell_type": "code",
   "execution_count": 26,
   "metadata": {},
   "outputs": [],
   "source": [
    "# import libraries\n",
    "import pickle\n",
    "import numpy as np"
   ]
  },
  {
   "cell_type": "code",
   "execution_count": 27,
   "metadata": {},
   "outputs": [
    {
     "data": {
      "text/plain": [
       "{'time': array([0.91150308, 0.18315063, 0.11313847, 0.3056753 , 0.43713391,\n",
       "        0.5637536 , 0.48044087, 0.78617283, 0.80926501, 0.12226236]),\n",
       " 'money': array([0.89522431, 0.71269995, 0.63097277, 0.16316137, 0.30082671,\n",
       "        0.0264141 , 0.92964893, 0.80629994, 0.75658732, 0.59495094])}"
      ]
     },
     "execution_count": 27,
     "metadata": {},
     "output_type": "execute_result"
    }
   ],
   "source": [
    "# create sample data\n",
    "sample_data = {\n",
    "    \"time\": np.random.random(10),\n",
    "    \"money\": np.random.random(10)\n",
    "}\n",
    "\n",
    "sample_data"
   ]
  },
  {
   "cell_type": "markdown",
   "metadata": {},
   "source": [
    "### Dump sample_data\n",
    "Let's dump the ```sample_data``` Dictionary into a pickle file.\n",
    "\n",
    "Use Python's ```with``` statement instead of ```fopen``` because the ```with``` control structure handles the open and closing of a file without having to do it manually."
   ]
  },
  {
   "cell_type": "code",
   "execution_count": 28,
   "metadata": {},
   "outputs": [],
   "source": [
    "# give permissions to write binary (wb) into the sample_data.pkl file\n",
    "with open(\"sample_data.pkl\", \"wb\") as sample_data_file:\n",
    "    # dump the sample_data Dictionary's binary data into the sample_data.pkl file\n",
    "    pickle.dump(sample_data, sample_data_file)"
   ]
  },
  {
   "cell_type": "markdown",
   "metadata": {},
   "source": [
    "### Read sample_data\n",
    "Now let's read the ```sample_data``` Dictionary from the ```sample_data.pkl``` file."
   ]
  },
  {
   "cell_type": "code",
   "execution_count": 29,
   "metadata": {},
   "outputs": [
    {
     "data": {
      "text/plain": [
       "{'time': array([0.91150308, 0.18315063, 0.11313847, 0.3056753 , 0.43713391,\n",
       "        0.5637536 , 0.48044087, 0.78617283, 0.80926501, 0.12226236]),\n",
       " 'money': array([0.89522431, 0.71269995, 0.63097277, 0.16316137, 0.30082671,\n",
       "        0.0264141 , 0.92964893, 0.80629994, 0.75658732, 0.59495094])}"
      ]
     },
     "execution_count": 29,
     "metadata": {},
     "output_type": "execute_result"
    }
   ],
   "source": [
    "# give permissions to read binary (rb) from the sample_data.pkl file\n",
    "with open(\"sample_data.pkl\", \"rb\") as sample_data_file:\n",
    "    # load the sample_data.pkl file\n",
    "    loaded_sample_data = pickle.load(sample_data_file)\n",
    "    \n",
    "loaded_sample_data"
   ]
  },
  {
   "cell_type": "markdown",
   "metadata": {},
   "source": [
    "# JobLib\n",
    "JobLib is more efficient to serialize NumPy Arrays than Pickle.\n",
    "- Helpful for saving SKLearn models or Pandas DataFrames."
   ]
  },
  {
   "cell_type": "code",
   "execution_count": 30,
   "metadata": {},
   "outputs": [],
   "source": [
    "from joblib import dump, load"
   ]
  },
  {
   "cell_type": "markdown",
   "metadata": {},
   "source": [
    "### Dump sample_data\n",
    "Let's dump the ```sample_data``` Dictioary into a joblib file."
   ]
  },
  {
   "cell_type": "code",
   "execution_count": 31,
   "metadata": {},
   "outputs": [
    {
     "data": {
      "text/plain": [
       "['sample_data.joblib']"
      ]
     },
     "execution_count": 31,
     "metadata": {},
     "output_type": "execute_result"
    }
   ],
   "source": [
    "# dump the sample_data Dictionary's binary data into the sample_data.joblib file\n",
    "dump(sample_data, \"sample_data.joblib\")"
   ]
  },
  {
   "cell_type": "markdown",
   "metadata": {},
   "source": [
    "### Read sample_data\n",
    "Now let's read the ```sample_data``` Dictionary from the ```sample_data.joblib``` file."
   ]
  },
  {
   "cell_type": "code",
   "execution_count": 32,
   "metadata": {},
   "outputs": [
    {
     "data": {
      "text/plain": [
       "{'time': array([0.91150308, 0.18315063, 0.11313847, 0.3056753 , 0.43713391,\n",
       "        0.5637536 , 0.48044087, 0.78617283, 0.80926501, 0.12226236]),\n",
       " 'money': array([0.89522431, 0.71269995, 0.63097277, 0.16316137, 0.30082671,\n",
       "        0.0264141 , 0.92964893, 0.80629994, 0.75658732, 0.59495094])}"
      ]
     },
     "execution_count": 32,
     "metadata": {},
     "output_type": "execute_result"
    }
   ],
   "source": [
    "# load the sample_data.joblib file\n",
    "loaded_sample_data = load(\"sample_data.joblib\")\n",
    "\n",
    "loaded_sample_data"
   ]
  }
 ],
 "metadata": {
  "kernelspec": {
   "display_name": "Python 3",
   "language": "python",
   "name": "python3"
  },
  "language_info": {
   "codemirror_mode": {
    "name": "ipython",
    "version": 3
   },
   "file_extension": ".py",
   "mimetype": "text/x-python",
   "name": "python",
   "nbconvert_exporter": "python",
   "pygments_lexer": "ipython3",
   "version": "3.7.1"
  }
 },
 "nbformat": 4,
 "nbformat_minor": 2
}
