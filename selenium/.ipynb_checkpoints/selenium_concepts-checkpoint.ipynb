{
 "cells": [
  {
   "cell_type": "markdown",
   "metadata": {},
   "source": [
    "# Selenium Set-up\n",
    "1. Import the package's webdriver module.  \n",
    "2. Load the webdriver for Google Chrome.\n",
    "    - You must have the webdriver installed and placed into the Drivers directory for this to work\n",
    "    - Read the ```README.md``` for more information\n",
    "3. Open the selenium webpage using the webdriver."
   ]
  },
  {
   "cell_type": "code",
   "execution_count": 21,
   "metadata": {},
   "outputs": [],
   "source": [
    "# import selenium\n",
    "from selenium import webdriver"
   ]
  },
  {
   "cell_type": "code",
   "execution_count": 25,
   "metadata": {},
   "outputs": [],
   "source": [
    "# connect to the google chrome driver, opens a new Chrome browser\n",
    "browser = webdriver.Chrome()"
   ]
  },
  {
   "cell_type": "code",
   "execution_count": 29,
   "metadata": {},
   "outputs": [],
   "source": [
    "# open the selenium webpage within the current tab\n",
    "browser.get(\"https://www.seleniumhq.org/\")"
   ]
  },
  {
   "cell_type": "markdown",
   "metadata": {},
   "source": [
    "# Accessing Elements\n",
    "Once we load-up a webpage, we can access the page's elements and their respective properties."
   ]
  },
  {
   "cell_type": "code",
   "execution_count": 35,
   "metadata": {},
   "outputs": [
    {
     "name": "stdout",
     "output_type": "stream",
     "text": [
      "Download button's text is: Download\n",
      "Download button's link is: https://www.seleniumhq.org/download/\n"
     ]
    }
   ],
   "source": [
    "# receive the download button using its link text, works well with <a> tags\n",
    "download_btn = browser.find_element_by_link_text(\"Download\")\n",
    "\n",
    "# let's access some of the download button's properties\n",
    "print(\"Download button's text is: \" + download_btn.text)\n",
    "print(\"Download button's link is: \" + download_btn.get_attribute(\"href\"))\n",
    "\n",
    "# click on the download button\n",
    "download_btn.click()"
   ]
  },
  {
   "cell_type": "code",
   "execution_count": 36,
   "metadata": {},
   "outputs": [],
   "source": [
    "# receive the projects button using its link text, then click it\n",
    "projects_btn = browser.find_element_by_link_text(\"Projects\")\n",
    "projects_btn.click()"
   ]
  },
  {
   "cell_type": "markdown",
   "metadata": {},
   "source": [
    "# Type and Enter\n",
    "We can type text into a textbar (such as the search bar), and then do the textbar's task."
   ]
  },
  {
   "cell_type": "code",
   "execution_count": 39,
   "metadata": {},
   "outputs": [],
   "source": [
    "# receive the search bar using its id\n",
    "search_bar = browser.find_element_by_id(\"q\")\n",
    "\n",
    "# type-in keys into the search bar\n",
    "search_bar.send_keys(\"download\")"
   ]
  },
  {
   "cell_type": "code",
   "execution_count": 41,
   "metadata": {},
   "outputs": [],
   "source": [
    "# import common keys from selenium\n",
    "from selenium.webdriver.common.keys import Keys"
   ]
  },
  {
   "cell_type": "code",
   "execution_count": 43,
   "metadata": {},
   "outputs": [],
   "source": [
    "# type-in the ENTER key into the search bar, which would search for the typed-in text\n",
    "search_bar.send_keys(Keys.ENTER)"
   ]
  }
 ],
 "metadata": {
  "kernelspec": {
   "display_name": "Python 3",
   "language": "python",
   "name": "python3"
  },
  "language_info": {
   "codemirror_mode": {
    "name": "ipython",
    "version": 3
   },
   "file_extension": ".py",
   "mimetype": "text/x-python",
   "name": "python",
   "nbconvert_exporter": "python",
   "pygments_lexer": "ipython3",
   "version": "3.7.1"
  }
 },
 "nbformat": 4,
 "nbformat_minor": 2
}
