{
 "cells": [
  {
   "cell_type": "code",
   "execution_count": null,
   "metadata": {},
   "outputs": [],
   "source": [
    "\"\"\"\n",
    "This is a code cell, we can run any Python code onto this cell because the\n",
    "file-type for this notebook is a ipnyb (IPython Notebook).\n",
    "\n",
    "If you want a different type of cell, then on the top click the drop-down\n",
    "menu and choose a different type to use for the particular cell\n",
    "\"\"\"\n",
    "\n",
    "# Click the \"Run\" button to run this cell\n",
    "print(\"Hello World!\")"
   ]
  },
  {
   "cell_type": "markdown",
   "metadata": {},
   "source": [
    "# Basic Commands\n",
    "- Press \"Shift + Enter\" to run a cell without needing to click the \"Run\" button\n",
    "- Press \"Alt + Enter\" on a cell to run then create a new cell\n",
    "- Press \"CTRL + S\" to save the cell, but Jupyter auto-saves every 2 minutes"
   ]
  },
  {
   "cell_type": "markdown",
   "metadata": {},
   "source": [
    "# Systems\n",
    "- In \"File\" -> \"Download as\" there are many options to download the notebook as\n",
    "- Under \"Help\" -> \"Keyboard Shortcuts\" there are many different shortcuts you can create to help you maneuver thru jupyter notebooks"
   ]
  },
  {
   "cell_type": "markdown",
   "metadata": {},
   "source": [
    "# Debugging\n",
    "- If the program is taking too long to run or is infinite, go to \"Kernel\" -> \"Restart\" to restart the entire notebook"
   ]
  },
  {
   "cell_type": "markdown",
   "metadata": {},
   "source": [
    "# Read More About Jupyter Notebooks!\n",
    "https://ipython.org/notebook.html"
   ]
  }
 ],
 "metadata": {
  "kernelspec": {
   "display_name": "Python 3",
   "language": "python",
   "name": "python3"
  },
  "language_info": {
   "codemirror_mode": {
    "name": "ipython",
    "version": 3
   },
   "file_extension": ".py",
   "mimetype": "text/x-python",
   "name": "python",
   "nbconvert_exporter": "python",
   "pygments_lexer": "ipython3",
   "version": "3.7.1"
  }
 },
 "nbformat": 4,
 "nbformat_minor": 2
}
