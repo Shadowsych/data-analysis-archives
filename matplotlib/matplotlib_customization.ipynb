{
 "cells": [
  {
   "cell_type": "markdown",
   "metadata": {},
   "source": [
    "# Matplotlib Customization (Plot Appearance)"
   ]
  },
  {
   "cell_type": "code",
   "execution_count": 50,
   "metadata": {},
   "outputs": [],
   "source": [
    "import matplotlib.pyplot as plt\n",
    "import numpy as np\n",
    "%matplotlib inline"
   ]
  },
  {
   "cell_type": "code",
   "execution_count": 51,
   "metadata": {},
   "outputs": [],
   "source": [
    "# return an Array from 0 to 5 with spacing of 11 items (0.5 spacing)\n",
    "x = np.linspace(0, 5, 11)\n",
    "\n",
    "# return an Array of x^2\n",
    "y = x ** 2"
   ]
  },
  {
   "cell_type": "code",
   "execution_count": 52,
   "metadata": {},
   "outputs": [
    {
     "data": {
      "text/plain": [
       "[<matplotlib.lines.Line2D at 0x226c7416278>]"
      ]
     },
     "execution_count": 52,
     "metadata": {},
     "output_type": "execute_result"
    },
    {
     "data": {
      "image/png": "[encoded data removed]",
      "text/plain": [
       "<Figure size 432x288 with 1 Axes>"
      ]
     },
     "metadata": {
      "needs_background": "light"
     },
     "output_type": "display_data"
    }
   ],
   "source": [
    "# create a figure and set its axes\n",
    "figure = plt.figure()\n",
    "axes = figure.add_axes([0, 0, 1, 1])\n",
    "\n",
    "# set the x and y-axis limits as [lower bound, upper bound]\n",
    "axes.set_xlim([0, 1])\n",
    "axes.set_ylim([0, 2])\n",
    "\n",
    "\"\"\"\n",
    "set an axes using the x, y Array values\n",
    "- RBG burnt-orange color\n",
    "- linewidth of 5x (can also use lw=5)\n",
    "- alpha (opacity) of 50%\n",
    "- linestyle of dashes (can also use ls=\"--\")\n",
    "- marker on each point as o\n",
    "- markersize as 20x\n",
    "- marker face color as yellow\n",
    "- marker edge width as 3x\n",
    "- marker edge color as green\n",
    "\n",
    "Check out more linestyles here:\n",
    "- hhttps://matplotlib.org/gallery/lines_bars_and_markers/linestyles.html\n",
    "\n",
    "Check out more markers here:\n",
    "- https://matplotlib.org/api/markers_api.html\n",
    "\"\"\"\n",
    "axes.plot(x, y, color=\"#cc5500\", linewidth=5, alpha=0.5, linestyle=\"--\",\n",
    "          marker=\"o\", markersize=20, markerfacecolor=\"yellow\",\n",
    "         markeredgewidth=3, markeredgecolor=\"green\")"
   ]
  },
  {
   "cell_type": "markdown",
   "metadata": {},
   "source": [
    "### Other Matplotlib Graphs\n",
    "- It's advised to use the Seaborn library, instead "
   ]
  },
  {
   "cell_type": "code",
   "execution_count": 53,
   "metadata": {},
   "outputs": [
    {
     "data": {
      "text/plain": [
       "<matplotlib.collections.PathCollection at 0x226c8801cf8>"
      ]
     },
     "execution_count": 53,
     "metadata": {},
     "output_type": "execute_result"
    },
    {
     "data": {
      "image/png": "[encoded data removed]",
      "text/plain": [
       "<Figure size 432x288 with 1 Axes>"
      ]
     },
     "metadata": {
      "needs_background": "light"
     },
     "output_type": "display_data"
    }
   ],
   "source": [
    "# Scatter plots\n",
    "plt.scatter(x,y)"
   ]
  },
  {
   "cell_type": "code",
   "execution_count": 54,
   "metadata": {},
   "outputs": [
    {
     "data": {
      "text/plain": [
       "(array([10., 17., 12.,  4., 15.,  9., 10.,  8.,  5., 10.]),\n",
       " array([ 10. , 107.4, 204.8, 302.2, 399.6, 497. , 594.4, 691.8, 789.2,\n",
       "        886.6, 984. ]),\n",
       " <a list of 10 Patch objects>)"
      ]
     },
     "execution_count": 54,
     "metadata": {},
     "output_type": "execute_result"
    },
    {
     "data": {
      "image/png": "[encoded data removed]",
      "text/plain": [
       "<Figure size 432x288 with 1 Axes>"
      ]
     },
     "metadata": {
      "needs_background": "light"
     },
     "output_type": "display_data"
    }
   ],
   "source": [
    "from random import sample\n",
    "\n",
    "# random data from 1 to 999 with a step-size of 100 (rounds numbers on graph)\n",
    "data = sample(range(1, 1000), 100)\n",
    "\n",
    "# plot a histogram\n",
    "plt.hist(data)"
   ]
  },
  {
   "cell_type": "code",
   "execution_count": 55,
   "metadata": {},
   "outputs": [
    {
     "data": {
      "image/png": "[encoded data removed]",
      "text/plain": [
       "<Figure size 432x288 with 1 Axes>"
      ]
     },
     "metadata": {
      "needs_background": "light"
     },
     "output_type": "display_data"
    }
   ],
   "source": [
    "data = [[2, 5], [0, 5], [1, 9]]\n",
    "\n",
    "# rectangular box plot that's plotted vertically with filled (patched) colors\n",
    "plt.boxplot(data, vert=True, patch_artist=True);"
   ]
  }
 ],
 "metadata": {
  "kernelspec": {
   "display_name": "Python 3",
   "language": "python",
   "name": "python3"
  },
  "language_info": {
   "codemirror_mode": {
    "name": "ipython",
    "version": 3
   },
   "file_extension": ".py",
   "mimetype": "text/x-python",
   "name": "python",
   "nbconvert_exporter": "python",
   "pygments_lexer": "ipython3",
   "version": "3.7.1"
  }
 },
 "nbformat": 4,
 "nbformat_minor": 2
}
