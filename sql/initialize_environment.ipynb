{
 "cells": [
  {
   "cell_type": "markdown",
   "metadata": {},
   "source": [
    "# MySQL Environment\n",
    "In this lecture, we're going to initialize the MySQL environment for use with the other lectures."
   ]
  },
  {
   "cell_type": "code",
   "execution_count": 18,
   "metadata": {},
   "outputs": [],
   "source": [
    "# import the python mysql driver\n",
    "import pymysql"
   ]
  },
  {
   "cell_type": "code",
   "execution_count": 19,
   "metadata": {},
   "outputs": [],
   "source": [
    "# connect to a mysql user, and optionally a database\n",
    "def connect(host, user, password, database):\n",
    "    connection = pymysql.connect(\n",
    "        host=host,\n",
    "        user=user,\n",
    "        password=password,\n",
    "        database=database\n",
    "    )\n",
    "    # return a dictionary cursor that returns queried table results as a dictionary\n",
    "    return connection.cursor(pymysql.cursors.DictCursor)\n",
    "\n",
    "# connect to the default \"root\" user of the mysql server\n",
    "cursor = connect(\"localhost\", \"root\", \"root\", None)"
   ]
  },
  {
   "cell_type": "markdown",
   "metadata": {},
   "source": [
    "# Create MySQL User\n",
    "Let's create a custom MySQL user! The current user we're connected to is \"root\", but for demonstration purposes we're going to create a new user with the name \"pravat\" and grant it all privileges.\n",
    "\n",
    "Also, take notice that the exclamation mark (!) executes Bash commands on the Terminal. We will do this to execute MySQL commands as if we're executing them in the terminal."
   ]
  },
  {
   "cell_type": "code",
   "execution_count": 20,
   "metadata": {},
   "outputs": [
    {
     "data": {
      "text/plain": [
       "0"
      ]
     },
     "execution_count": 20,
     "metadata": {},
     "output_type": "execute_result"
    }
   ],
   "source": [
    "# before we create the user, let's delete it in case it's ever existed before\n",
    "cursor.execute(\"DROP USER IF EXISTS pravat@localhost\")"
   ]
  },
  {
   "cell_type": "code",
   "execution_count": 21,
   "metadata": {},
   "outputs": [
    {
     "data": {
      "text/plain": [
       "0"
      ]
     },
     "execution_count": 21,
     "metadata": {},
     "output_type": "execute_result"
    }
   ],
   "source": [
    "# create the user \"pravat\" with password 12345 if it does not exist, and grant it all privileges\n",
    "cursor.execute(\"CREATE USER IF NOT EXISTS pravat@localhost IDENTIFIED BY '12345'\")\n",
    "cursor.execute(\"GRANT ALL PRIVILEGES ON * . * TO pravat@localhost\")\n",
    "cursor.execute(\"FLUSH PRIVILEGES\")"
   ]
  },
  {
   "cell_type": "code",
   "execution_count": 22,
   "metadata": {},
   "outputs": [
    {
     "data": {
      "text/plain": [
       "[{'user': 'debian-sys-maint', 'host': 'localhost'},\n",
       " {'user': 'mysql.infoschema', 'host': 'localhost'},\n",
       " {'user': 'mysql.session', 'host': 'localhost'},\n",
       " {'user': 'mysql.sys', 'host': 'localhost'},\n",
       " {'user': 'phpmyadmin', 'host': 'localhost'},\n",
       " {'user': 'pravat', 'host': 'localhost'},\n",
       " {'user': 'root', 'host': 'localhost'}]"
      ]
     },
     "execution_count": 22,
     "metadata": {},
     "output_type": "execute_result"
    }
   ],
   "source": [
    "# now we can see the user \"pravat\" at host \"localhost\" has been created!\n",
    "cursor.execute(\"SELECT user, host FROM mysql.user\")\n",
    "cursor.fetchall()"
   ]
  },
  {
   "cell_type": "markdown",
   "metadata": {},
   "source": [
    "# Create MySQL Database\n",
    "Now let's create a MySQL database with the name \"acme\"."
   ]
  },
  {
   "cell_type": "code",
   "execution_count": 6,
   "metadata": {},
   "outputs": [
    {
     "name": "stderr",
     "output_type": "stream",
     "text": [
      "/home/pravat/anaconda3/lib/python3.7/site-packages/pymysql/cursors.py:329: Warning: (1008, \"Can't drop database 'acme'; database doesn't exist\")\n",
      "  self._do_get_result()\n"
     ]
    },
    {
     "data": {
      "text/plain": [
       "0"
      ]
     },
     "execution_count": 6,
     "metadata": {},
     "output_type": "execute_result"
    }
   ],
   "source": [
    "# before we create the database, let's delete it in case it's ever existed before\n",
    "cursor.execute(\"DROP DATABASE IF EXISTS acme\")"
   ]
  },
  {
   "cell_type": "code",
   "execution_count": 7,
   "metadata": {},
   "outputs": [
    {
     "data": {
      "text/plain": [
       "1"
      ]
     },
     "execution_count": 7,
     "metadata": {},
     "output_type": "execute_result"
    }
   ],
   "source": [
    "# create the database \"acme\" if it does not exist\n",
    "cursor.execute(\"CREATE DATABASE IF NOT EXISTS acme\")"
   ]
  },
  {
   "cell_type": "code",
   "execution_count": 8,
   "metadata": {},
   "outputs": [
    {
     "data": {
      "text/plain": [
       "[{'Database': 'acme'},\n",
       " {'Database': 'copit'},\n",
       " {'Database': 'information_schema'},\n",
       " {'Database': 'mysql'},\n",
       " {'Database': 'performance_schema'},\n",
       " {'Database': 'phpmyadmin'},\n",
       " {'Database': 'sys'}]"
      ]
     },
     "execution_count": 8,
     "metadata": {},
     "output_type": "execute_result"
    }
   ],
   "source": [
    "# now we can see the database \"acme\" has been created!\n",
    "cursor.execute(\"SHOW DATABASES\")\n",
    "cursor.fetchall()"
   ]
  },
  {
   "cell_type": "code",
   "execution_count": 9,
   "metadata": {},
   "outputs": [],
   "source": [
    "# let's connect to the \"acme\" database using the \"pravat\" user\n",
    "cursor = connect(\"localhost\", \"pravat\", \"12345\", \"acme\")"
   ]
  },
  {
   "cell_type": "markdown",
   "metadata": {},
   "source": [
    "# Create Table\n",
    "Now that we've created the \"acme\" database, let's create 3 new tables: \"users\", \"posts\", and \"comments\" in the database."
   ]
  },
  {
   "cell_type": "code",
   "execution_count": 10,
   "metadata": {},
   "outputs": [
    {
     "name": "stderr",
     "output_type": "stream",
     "text": [
      "/home/pravat/anaconda3/lib/python3.7/site-packages/pymysql/cursors.py:329: Warning: (1051, \"Unknown table 'acme.users'\")\n",
      "  self._do_get_result()\n",
      "/home/pravat/anaconda3/lib/python3.7/site-packages/pymysql/cursors.py:329: Warning: (1051, \"Unknown table 'acme.posts'\")\n",
      "  self._do_get_result()\n",
      "/home/pravat/anaconda3/lib/python3.7/site-packages/pymysql/cursors.py:329: Warning: (1051, \"Unknown table 'acme.comments'\")\n",
      "  self._do_get_result()\n"
     ]
    },
    {
     "data": {
      "text/plain": [
       "0"
      ]
     },
     "execution_count": 10,
     "metadata": {},
     "output_type": "execute_result"
    }
   ],
   "source": [
    "# before we create the table, let's delete the tables in case they've ever been existed before\n",
    "cursor.execute(\"DROP TABLE IF EXISTS users, posts, comments\")"
   ]
  },
  {
   "cell_type": "code",
   "execution_count": 11,
   "metadata": {},
   "outputs": [
    {
     "data": {
      "text/plain": [
       "0"
      ]
     },
     "execution_count": 11,
     "metadata": {},
     "output_type": "execute_result"
    }
   ],
   "source": [
    "# create the table \"users\" if it does not exist\n",
    "cursor.execute(\n",
    "    \"\"\"\n",
    "    CREATE TABLE IF NOT EXISTS users(\n",
    "        id INT AUTO_INCREMENT,\n",
    "        first_name VARCHAR(100),\n",
    "        last_name VARCHAR(100),\n",
    "        email VARCHAR(75),\n",
    "        password VARCHAR(255),\n",
    "        location VARCHAR(100),\n",
    "        dept VARCHAR(75),\n",
    "        is_admin TINYINT(1),\n",
    "        register_date DATETIME,\n",
    "        PRIMARY KEY(id)\n",
    "    )\n",
    "    \"\"\"\n",
    ")"
   ]
  },
  {
   "cell_type": "code",
   "execution_count": 12,
   "metadata": {},
   "outputs": [
    {
     "data": {
      "text/plain": [
       "0"
      ]
     },
     "execution_count": 12,
     "metadata": {},
     "output_type": "execute_result"
    }
   ],
   "source": [
    "# create the table \"posts\" if it does not exist\n",
    "cursor.execute(\n",
    "    \"\"\"\n",
    "    CREATE TABLE IF NOT EXISTS posts(\n",
    "        id INT AUTO_INCREMENT,\n",
    "        user_id INT,\n",
    "        title VARCHAR(100),\n",
    "        body TEXT,\n",
    "        publish_date DATETIME DEFAULT CURRENT_TIMESTAMP,\n",
    "        PRIMARY KEY(id),\n",
    "        FOREIGN KEY(user_id) REFERENCES users(id)\n",
    "    )\n",
    "    \"\"\"\n",
    ")"
   ]
  },
  {
   "cell_type": "code",
   "execution_count": 13,
   "metadata": {},
   "outputs": [
    {
     "data": {
      "text/plain": [
       "0"
      ]
     },
     "execution_count": 13,
     "metadata": {},
     "output_type": "execute_result"
    }
   ],
   "source": [
    "# create the table \"comments\" if it does not exist\n",
    "cursor.execute(\n",
    "    \"\"\"\n",
    "    CREATE TABLE IF NOT EXISTS comments(\n",
    "        id INT AUTO_INCREMENT,\n",
    "        post_id INT,\n",
    "        user_id INT,\n",
    "        body VARCHAR(100),\n",
    "        publish_date DATETIME DEFAULT CURRENT_TIMESTAMP,\n",
    "        PRIMARY KEY(id),\n",
    "        FOREIGN KEY(post_id) REFERENCES posts(id),\n",
    "        FOREIGN KEY(user_id) REFERENCES users(id)\n",
    "    )\n",
    "    \"\"\"\n",
    ")"
   ]
  },
  {
   "cell_type": "code",
   "execution_count": 14,
   "metadata": {},
   "outputs": [
    {
     "data": {
      "text/plain": [
       "[{'Tables_in_acme': 'comments'},\n",
       " {'Tables_in_acme': 'posts'},\n",
       " {'Tables_in_acme': 'users'}]"
      ]
     },
     "execution_count": 14,
     "metadata": {},
     "output_type": "execute_result"
    }
   ],
   "source": [
    "# now we can see the tables have been created!\n",
    "cursor.execute(\"SHOW TABLES\")\n",
    "cursor.fetchall()"
   ]
  }
 ],
 "metadata": {
  "kernelspec": {
   "display_name": "Python 3",
   "language": "python",
   "name": "python3"
  },
  "language_info": {
   "codemirror_mode": {
    "name": "ipython",
    "version": 3
   },
   "file_extension": ".py",
   "mimetype": "text/x-python",
   "name": "python",
   "nbconvert_exporter": "python",
   "pygments_lexer": "ipython3",
   "version": "3.7.3"
  }
 },
 "nbformat": 4,
 "nbformat_minor": 2
}
