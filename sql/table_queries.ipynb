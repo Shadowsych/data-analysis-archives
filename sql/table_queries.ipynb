{
 "cells": [
  {
   "cell_type": "markdown",
   "metadata": {},
   "source": [
    "# Table Queries\n",
    "Let's modify the tables and their structure in the \"acme\" database.\n",
    "\n",
    "Let's first connect to the \"acme\" database as the \"pravat\" user."
   ]
  },
  {
   "cell_type": "code",
   "execution_count": 51,
   "metadata": {},
   "outputs": [],
   "source": [
    "# import the python mysql driver\n",
    "import pymysql"
   ]
  },
  {
   "cell_type": "code",
   "execution_count": 52,
   "metadata": {},
   "outputs": [],
   "source": [
    "# connect to the \"acme\" database as the \"pravat\" user\n",
    "connection = pymysql.connect(\n",
    "    host=\"localhost\",\n",
    "    user=\"pravat\",\n",
    "    password=\"12345\",\n",
    "    database=\"acme\",\n",
    "    autocommit=True\n",
    ")\n",
    "cursor = connection.cursor(pymysql.cursors.DictCursor)"
   ]
  },
  {
   "cell_type": "markdown",
   "metadata": {},
   "source": [
    "# Delete Column\n",
    "Let's delete a column from the \"users\" table.\n",
    "\n",
    "Unlike other DROP commands, we cannot check IF EXISTS for a table. Therefore, running this command when the column does not exist will throw an error."
   ]
  },
  {
   "cell_type": "code",
   "execution_count": 53,
   "metadata": {},
   "outputs": [
    {
     "data": {
      "text/plain": [
       "0"
      ]
     },
     "execution_count": 53,
     "metadata": {},
     "output_type": "execute_result"
    }
   ],
   "source": [
    "# delete the \"age\" column\n",
    "cursor.execute(\"ALTER TABLE users DROP COLUMN age\")"
   ]
  },
  {
   "cell_type": "markdown",
   "metadata": {},
   "source": [
    "# Add Column\n",
    "Let's add a new column to the \"users\" table."
   ]
  },
  {
   "cell_type": "code",
   "execution_count": 54,
   "metadata": {},
   "outputs": [
    {
     "data": {
      "text/plain": [
       "0"
      ]
     },
     "execution_count": 54,
     "metadata": {},
     "output_type": "execute_result"
    }
   ],
   "source": [
    "# add the \"age\" column with data type of VARCHAR(3)\n",
    "cursor.execute(\"ALTER TABLE users ADD COLUMN age VARCHAR(3)\")"
   ]
  },
  {
   "cell_type": "markdown",
   "metadata": {},
   "source": [
    "# Modify Column\n",
    "Let's modify a column in the \"users\" table."
   ]
  },
  {
   "cell_type": "code",
   "execution_count": 55,
   "metadata": {},
   "outputs": [
    {
     "data": {
      "text/plain": [
       "5"
      ]
     },
     "execution_count": 55,
     "metadata": {},
     "output_type": "execute_result"
    }
   ],
   "source": [
    "# modify the \"age\" column by setting its data type to INT(3)\n",
    "cursor.execute(\"ALTER TABLE users MODIFY COLUMN age INT(3)\")"
   ]
  },
  {
   "cell_type": "markdown",
   "metadata": {},
   "source": [
    "# ORDER BY\n",
    "We can order results of a query.\n",
    "\n",
    "Let's read the data from the \"users\" table as ascending and descending sorted order."
   ]
  },
  {
   "cell_type": "code",
   "execution_count": 56,
   "metadata": {},
   "outputs": [
    {
     "data": {
      "text/plain": [
       "[{'id': 1}, {'id': 2}, {'id': 3}, {'id': 4}, {'id': 5}]"
      ]
     },
     "execution_count": 56,
     "metadata": {},
     "output_type": "execute_result"
    }
   ],
   "source": [
    "# select the users in ascending order by id\n",
    "cursor.execute(\"SELECT id FROM users ORDER BY id ASC\")\n",
    "cursor.fetchall()"
   ]
  },
  {
   "cell_type": "code",
   "execution_count": 57,
   "metadata": {},
   "outputs": [
    {
     "data": {
      "text/plain": [
       "[{'id': 5}, {'id': 4}, {'id': 3}, {'id': 2}, {'id': 1}]"
      ]
     },
     "execution_count": 57,
     "metadata": {},
     "output_type": "execute_result"
    }
   ],
   "source": [
    "# select the users in descending order by id\n",
    "cursor.execute(\"SELECT id FROM users ORDER BY id DESC\")\n",
    "cursor.fetchall()"
   ]
  },
  {
   "cell_type": "markdown",
   "metadata": {},
   "source": [
    "# SELECT Concatenated Columns\n",
    "Let's read two concatenated columns as one in the \"users\" table."
   ]
  },
  {
   "cell_type": "code",
   "execution_count": 58,
   "metadata": {},
   "outputs": [
    {
     "data": {
      "text/plain": [
       "[{'name': 'John Doe', 'dept': 'development'},\n",
       " {'name': 'Fred Smith', 'dept': 'design'},\n",
       " {'name': 'Sara Watson', 'dept': 'design'},\n",
       " {'name': 'Will Jackson', 'dept': 'development'},\n",
       " {'name': 'Paula Johnson', 'dept': 'sales'}]"
      ]
     },
     "execution_count": 58,
     "metadata": {},
     "output_type": "execute_result"
    }
   ],
   "source": [
    "# select a concatenated first_name and last_name column and the department column\n",
    "cursor.execute(\"SELECT CONCAT(first_name, ' ', last_name) AS 'name', dept FROM users\")\n",
    "cursor.fetchall()"
   ]
  },
  {
   "cell_type": "markdown",
   "metadata": {},
   "source": [
    "# SELECT Distinct Columns\n",
    "Let's read unique values from a column in the \"users\" table."
   ]
  },
  {
   "cell_type": "code",
   "execution_count": 59,
   "metadata": {},
   "outputs": [
    {
     "data": {
      "text/plain": [
       "[{'location': 'Texas'},\n",
       " {'location': 'New York'},\n",
       " {'location': 'Rhode Island'},\n",
       " {'location': 'Massachusetts'}]"
      ]
     },
     "execution_count": 59,
     "metadata": {},
     "output_type": "execute_result"
    }
   ],
   "source": [
    "# select the distinct (unique) locations from the location column\n",
    "cursor.execute(\"SELECT DISTINCT location FROM users\")\n",
    "cursor.fetchall()"
   ]
  },
  {
   "cell_type": "markdown",
   "metadata": {},
   "source": [
    "# SELECT BETWEEN\n",
    "Let's select between values for a column in the \"users\" table."
   ]
  },
  {
   "cell_type": "code",
   "execution_count": 60,
   "metadata": {},
   "outputs": [
    {
     "data": {
      "text/plain": [
       "[{'id': 1}, {'id': 2}, {'id': 3}]"
      ]
     },
     "execution_count": 60,
     "metadata": {},
     "output_type": "execute_result"
    }
   ],
   "source": [
    "# select the ids between 1 and 3\n",
    "cursor.execute(\"SELECT id FROM users WHERE id BETWEEN 1 AND 3\")\n",
    "cursor.fetchall()"
   ]
  },
  {
   "cell_type": "markdown",
   "metadata": {},
   "source": [
    "# SELECT LIKE\n",
    "Let's match values from a column in the \"users\" table using formatted Strings."
   ]
  },
  {
   "cell_type": "code",
   "execution_count": 61,
   "metadata": {},
   "outputs": [
    {
     "data": {
      "text/plain": [
       "[{'dept': 'development'},\n",
       " {'dept': 'design'},\n",
       " {'dept': 'design'},\n",
       " {'dept': 'development'}]"
      ]
     },
     "execution_count": 61,
     "metadata": {},
     "output_type": "execute_result"
    }
   ],
   "source": [
    "# select the dept in departments that start in \"de\"\n",
    "cursor.execute(\"SELECT dept FROM users WHERE dept LIKE 'de%'\")\n",
    "cursor.fetchall()"
   ]
  },
  {
   "cell_type": "code",
   "execution_count": 62,
   "metadata": {},
   "outputs": [
    {
     "data": {
      "text/plain": [
       "[{'dept': 'development'}, {'dept': 'development'}]"
      ]
     },
     "execution_count": 62,
     "metadata": {},
     "output_type": "execute_result"
    }
   ],
   "source": [
    "# select the dept in departments that end in \"t\"\n",
    "cursor.execute(\"SELECT dept FROM users WHERE dept LIKE '%t'\")\n",
    "cursor.fetchall()"
   ]
  },
  {
   "cell_type": "code",
   "execution_count": 63,
   "metadata": {},
   "outputs": [
    {
     "data": {
      "text/plain": [
       "[{'dept': 'design'}, {'dept': 'design'}, {'dept': 'sales'}]"
      ]
     },
     "execution_count": 63,
     "metadata": {},
     "output_type": "execute_result"
    }
   ],
   "source": [
    "# select the dept in departments that have an a \"s\"\n",
    "cursor.execute(\"SELECT dept FROM users WHERE dept LIKE '%s%'\")\n",
    "cursor.fetchall()"
   ]
  },
  {
   "cell_type": "code",
   "execution_count": 64,
   "metadata": {},
   "outputs": [
    {
     "data": {
      "text/plain": [
       "[{'dept': 'development'}, {'dept': 'development'}]"
      ]
     },
     "execution_count": 64,
     "metadata": {},
     "output_type": "execute_result"
    }
   ],
   "source": [
    "# select the dept in departments that do NOT have an a \"s\"\n",
    "cursor.execute(\"SELECT dept FROM users WHERE dept NOT LIKE '%s%'\")\n",
    "cursor.fetchall()"
   ]
  },
  {
   "cell_type": "markdown",
   "metadata": {},
   "source": [
    "# SELECT IN\n",
    "Let's match values from a column in the \"users\" table using a list of values. This works the same as the AND operator, but it's used to shorten the syntax in case we need a long list of matching values."
   ]
  },
  {
   "cell_type": "code",
   "execution_count": 65,
   "metadata": {},
   "outputs": [
    {
     "data": {
      "text/plain": [
       "[{'dept': 'design'}, {'dept': 'design'}, {'dept': 'sales'}]"
      ]
     },
     "execution_count": 65,
     "metadata": {},
     "output_type": "execute_result"
    }
   ],
   "source": [
    "# select the dept in departments that \"design\" and \"sales\"\n",
    "cursor.execute(\"SELECT dept FROM users WHERE dept IN('design', 'sales')\")\n",
    "cursor.fetchall()"
   ]
  },
  {
   "cell_type": "markdown",
   "metadata": {},
   "source": [
    "# Index\n",
    "An index is a data structure used to increase the speed of operations in a table. For example, the id column is used an index to search a row.\n",
    "\n",
    "Let's create and delete a new index.\n",
    "\n",
    "In this example, we're going to create an Index for the location column. We're doing this because we might query the location column a lot in the future, so it's best to create an index for time efficiency."
   ]
  },
  {
   "cell_type": "code",
   "execution_count": 67,
   "metadata": {},
   "outputs": [
    {
     "data": {
      "text/plain": [
       "0"
      ]
     },
     "execution_count": 67,
     "metadata": {},
     "output_type": "execute_result"
    }
   ],
   "source": [
    "# create a new index called LIndex for the location column\n",
    "cursor.execute(\"CREATE INDEX LIndex on users(location)\")"
   ]
  },
  {
   "cell_type": "code",
   "execution_count": 69,
   "metadata": {},
   "outputs": [
    {
     "data": {
      "text/plain": [
       "0"
      ]
     },
     "execution_count": 69,
     "metadata": {},
     "output_type": "execute_result"
    }
   ],
   "source": [
    "# delete the index LIndex\n",
    "cursor.execute(\"DROP INDEX LIndex ON users\")"
   ]
  }
 ],
 "metadata": {
  "kernelspec": {
   "display_name": "Python 3",
   "language": "python",
   "name": "python3"
  },
  "language_info": {
   "codemirror_mode": {
    "name": "ipython",
    "version": 3
   },
   "file_extension": ".py",
   "mimetype": "text/x-python",
   "name": "python",
   "nbconvert_exporter": "python",
   "pygments_lexer": "ipython3",
   "version": "3.7.3"
  }
 },
 "nbformat": 4,
 "nbformat_minor": 2
}
