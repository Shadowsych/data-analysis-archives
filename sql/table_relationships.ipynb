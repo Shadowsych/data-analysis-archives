{
 "cells": [
  {
   "cell_type": "markdown",
   "metadata": {},
   "source": [
    "# Table Relationships\n",
    "In relational databases, tables are considered to be related particularly through primary and foreign keys. We'll use this concept to relate tables together and perform common operations on them.\n",
    "\n",
    "Let's first connect to the \"acme\" database as the \"pravat\" user."
   ]
  },
  {
   "cell_type": "code",
   "execution_count": 1,
   "metadata": {},
   "outputs": [],
   "source": [
    "# import the python mysql driver\n",
    "import pymysql"
   ]
  },
  {
   "cell_type": "code",
   "execution_count": 2,
   "metadata": {},
   "outputs": [],
   "source": [
    "# connect to the \"acme\" database as the \"pravat\" user\n",
    "connection = pymysql.connect(\n",
    "    host=\"localhost\",\n",
    "    user=\"pravat\",\n",
    "    password=\"12345\",\n",
    "    database=\"acme\",\n",
    "    autocommit=True\n",
    ")\n",
    "cursor = connection.cursor(pymysql.cursors.DictCursor)"
   ]
  },
  {
   "cell_type": "markdown",
   "metadata": {},
   "source": [
    "### Add Data to Posts and Comments Table\n",
    "This is just a pre-requisite to convey the idea of relational databases."
   ]
  },
  {
   "cell_type": "code",
   "execution_count": 4,
   "metadata": {},
   "outputs": [
    {
     "data": {
      "text/plain": [
       "10"
      ]
     },
     "execution_count": 4,
     "metadata": {},
     "output_type": "execute_result"
    }
   ],
   "source": [
    "cursor.execute(\n",
    "    \"\"\"\n",
    "    INSERT INTO posts(user_id, title, body) VALUES\n",
    "        (1, 'Post One', 'This is post one'),\n",
    "        (3, 'Post Two', 'This is post two'),\n",
    "        (1, 'Post Three', 'This is post three'),\n",
    "        (2, 'Post Four', 'This is post four'),\n",
    "        (5, 'Post Five', 'This is post five'),\n",
    "        (4, 'Post Six', 'This is post six'),\n",
    "        (2, 'Post Seven', 'This is post seven'),\n",
    "        (1, 'Post Eight', 'This is post eight'),\n",
    "        (3, 'Post Nine', 'This is post none'),\n",
    "        (4, 'Post Ten', 'This is post ten');\n",
    "    \"\"\"\n",
    ")"
   ]
  },
  {
   "cell_type": "code",
   "execution_count": 5,
   "metadata": {},
   "outputs": [
    {
     "data": {
      "text/plain": [
       "9"
      ]
     },
     "execution_count": 5,
     "metadata": {},
     "output_type": "execute_result"
    }
   ],
   "source": [
    "cursor.execute(\n",
    "    \"\"\"\n",
    "    INSERT INTO comments(post_id, user_id, body) VALUES\n",
    "        (1, 3, 'This is comment one'),\n",
    "        (2, 1, 'This is comment two'),\n",
    "        (5, 3, 'This is comment three'),\n",
    "        (2, 4, 'This is comment four'),\n",
    "        (1, 2, 'This is comment five'),\n",
    "        (3, 1, 'This is comment six'),\n",
    "        (3, 2, 'This is comment six'),\n",
    "        (5, 4, 'This is comment seven'),\n",
    "        (2, 3, 'This is comment seven');\n",
    "    \"\"\"\n",
    ")"
   ]
  },
  {
   "cell_type": "markdown",
   "metadata": {},
   "source": [
    "# JOIN\n",
    "A JOIN allows us to SELECT data from two different tables that are related through their keys.\n",
    "- (INNER) JOIN: Returns records that have matching values in both tables\n",
    "- LEFT (OUTER) JOIN: Returns all records from the left table, and the matched records from the right table\n",
    "- RIGHT (OUTER) JOIN: Returns all records from the right table, and the matched records from the left table\n",
    "- FULL (OUTER) JOIN: Returns all records when there is a match in either left or right table\n",
    "\n",
    "<img src=\"images/lectures/joins.png\" height=\"50%\" width=\"50%\"></img>\n",
    "- https://www.w3schools.com/sql/sql_join.asp\n",
    "- https://letsdobigdata.wordpress.com/2016/03/02/hive-joins/"
   ]
  },
  {
   "cell_type": "markdown",
   "metadata": {},
   "source": [
    "### INNER JOIN\n",
    "Let's do an INNER JOIN on the \"users\" table."
   ]
  },
  {
   "cell_type": "code",
   "execution_count": 20,
   "metadata": {},
   "outputs": [
    {
     "data": {
      "text/plain": [
       "[{'first_name': 'John',\n",
       "  'last_name': 'Doe',\n",
       "  'title': 'Post One',\n",
       "  'publish_date': datetime.datetime(2019, 8, 12, 16, 21, 2)},\n",
       " {'first_name': 'John',\n",
       "  'last_name': 'Doe',\n",
       "  'title': 'Post Three',\n",
       "  'publish_date': datetime.datetime(2019, 8, 12, 16, 21, 2)},\n",
       " {'first_name': 'John',\n",
       "  'last_name': 'Doe',\n",
       "  'title': 'Post Eight',\n",
       "  'publish_date': datetime.datetime(2019, 8, 12, 16, 21, 2)},\n",
       " {'first_name': 'Fred',\n",
       "  'last_name': 'Smith',\n",
       "  'title': 'Post Four',\n",
       "  'publish_date': datetime.datetime(2019, 8, 12, 16, 21, 2)},\n",
       " {'first_name': 'Fred',\n",
       "  'last_name': 'Smith',\n",
       "  'title': 'Post Seven',\n",
       "  'publish_date': datetime.datetime(2019, 8, 12, 16, 21, 2)},\n",
       " {'first_name': 'Sara',\n",
       "  'last_name': 'Watson',\n",
       "  'title': 'Post Two',\n",
       "  'publish_date': datetime.datetime(2019, 8, 12, 16, 21, 2)},\n",
       " {'first_name': 'Sara',\n",
       "  'last_name': 'Watson',\n",
       "  'title': 'Post Nine',\n",
       "  'publish_date': datetime.datetime(2019, 8, 12, 16, 21, 2)},\n",
       " {'first_name': 'Will',\n",
       "  'last_name': 'Jackson',\n",
       "  'title': 'Post Six',\n",
       "  'publish_date': datetime.datetime(2019, 8, 12, 16, 21, 2)},\n",
       " {'first_name': 'Will',\n",
       "  'last_name': 'Jackson',\n",
       "  'title': 'Post Ten',\n",
       "  'publish_date': datetime.datetime(2019, 8, 12, 16, 21, 2)},\n",
       " {'first_name': 'Paula',\n",
       "  'last_name': 'Johnson',\n",
       "  'title': 'Post Five',\n",
       "  'publish_date': datetime.datetime(2019, 8, 12, 16, 21, 2)}]"
      ]
     },
     "execution_count": 20,
     "metadata": {},
     "output_type": "execute_result"
    }
   ],
   "source": [
    "# select the posts of each user\n",
    "cursor.execute(\n",
    "    \"\"\"\n",
    "    SELECT\n",
    "        users.first_name,\n",
    "        users.last_name,\n",
    "        posts.title,\n",
    "        posts.publish_date\n",
    "    FROM users\n",
    "    INNER JOIN posts ON users.id = posts.user_id\n",
    "    \"\"\"\n",
    ")\n",
    "cursor.fetchall()"
   ]
  },
  {
   "cell_type": "markdown",
   "metadata": {},
   "source": [
    "### INNER MULTIPLE JOIN\n",
    "Let's do multiple inner joins on the \"users\" table."
   ]
  },
  {
   "cell_type": "code",
   "execution_count": 24,
   "metadata": {},
   "outputs": [
    {
     "data": {
      "text/plain": [
       "[{'body': 'This is comment three',\n",
       "  'title': 'Post Five',\n",
       "  'first_name': 'Sara',\n",
       "  'last_name': 'Watson'},\n",
       " {'body': 'This is comment seven',\n",
       "  'title': 'Post Five',\n",
       "  'first_name': 'Will',\n",
       "  'last_name': 'Jackson'},\n",
       " {'body': 'This is comment five',\n",
       "  'title': 'Post One',\n",
       "  'first_name': 'Fred',\n",
       "  'last_name': 'Smith'},\n",
       " {'body': 'This is comment one',\n",
       "  'title': 'Post One',\n",
       "  'first_name': 'Sara',\n",
       "  'last_name': 'Watson'},\n",
       " {'body': 'This is comment six',\n",
       "  'title': 'Post Three',\n",
       "  'first_name': 'John',\n",
       "  'last_name': 'Doe'},\n",
       " {'body': 'This is comment six',\n",
       "  'title': 'Post Three',\n",
       "  'first_name': 'Fred',\n",
       "  'last_name': 'Smith'},\n",
       " {'body': 'This is comment two',\n",
       "  'title': 'Post Two',\n",
       "  'first_name': 'John',\n",
       "  'last_name': 'Doe'},\n",
       " {'body': 'This is comment seven',\n",
       "  'title': 'Post Two',\n",
       "  'first_name': 'Sara',\n",
       "  'last_name': 'Watson'},\n",
       " {'body': 'This is comment four',\n",
       "  'title': 'Post Two',\n",
       "  'first_name': 'Will',\n",
       "  'last_name': 'Jackson'}]"
      ]
     },
     "execution_count": 24,
     "metadata": {},
     "output_type": "execute_result"
    }
   ],
   "source": [
    "# select the comments of each user's post\n",
    "cursor.execute(\n",
    "    \"\"\"\n",
    "    SELECT\n",
    "        comments.body,\n",
    "        posts.title,\n",
    "        users.first_name,\n",
    "        users.last_name\n",
    "    FROM comments\n",
    "    INNER JOIN posts ON posts.id = comments.post_id\n",
    "    INNER JOIN users ON users.id = comments.user_id\n",
    "    ORDER BY posts.title;\n",
    "    \"\"\"\n",
    ")\n",
    "cursor.fetchall()"
   ]
  },
  {
   "cell_type": "code",
   "execution_count": null,
   "metadata": {},
   "outputs": [],
   "source": []
  }
 ],
 "metadata": {
  "kernelspec": {
   "display_name": "Python 3",
   "language": "python",
   "name": "python3"
  },
  "language_info": {
   "codemirror_mode": {
    "name": "ipython",
    "version": 3
   },
   "file_extension": ".py",
   "mimetype": "text/x-python",
   "name": "python",
   "nbconvert_exporter": "python",
   "pygments_lexer": "ipython3",
   "version": "3.7.3"
  }
 },
 "nbformat": 4,
 "nbformat_minor": 2
}
