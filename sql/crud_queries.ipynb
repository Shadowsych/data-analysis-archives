{
 "cells": [
  {
   "cell_type": "markdown",
   "metadata": {},
   "source": [
    "# CRUD Queries\n",
    "Now that we've initialized the environment, we can begin managing environment. In this lecture, we're going to use CRUD (Create, Read, Update, and Delete) queries on the \"acme\" database.\n",
    "\n",
    "Let's first connect to the \"acme\" database as the \"pravat\" user."
   ]
  },
  {
   "cell_type": "code",
   "execution_count": 1,
   "metadata": {},
   "outputs": [],
   "source": [
    "# import the python mysql driver\n",
    "import pymysql"
   ]
  },
  {
   "cell_type": "code",
   "execution_count": 2,
   "metadata": {},
   "outputs": [],
   "source": [
    "# connect to the \"acme\" database as the \"pravat\" user\n",
    "connection = pymysql.connect(\n",
    "    host=\"localhost\",\n",
    "    user=\"pravat\",\n",
    "    password=\"12345\",\n",
    "    database=\"acme\"\n",
    ")\n",
    "cursor = connection.cursor(pymysql.cursors.DictCursor)"
   ]
  },
  {
   "cell_type": "markdown",
   "metadata": {},
   "source": [
    "### Reset Tables\n",
    "In case you mess up during the configuration of a table, the function was created below to reset it."
   ]
  },
  {
   "cell_type": "code",
   "execution_count": 3,
   "metadata": {},
   "outputs": [],
   "source": [
    "# reset a table\n",
    "def reset_table(name):\n",
    "    cursor.execute(\"DELETE FROM \" + name)\n",
    "    cursor.execute(\"ALTER TABLE \" + name + \" AUTO_INCREMENT = 1\")\n",
    "    \n",
    "# reset all tables\n",
    "reset_table(\"users\")\n",
    "reset_table(\"posts\")\n",
    "reset_table(\"comments\")"
   ]
  },
  {
   "cell_type": "markdown",
   "metadata": {},
   "source": [
    "# INSERT (Create)\n",
    "Let's insert new users into the \"users\" table."
   ]
  },
  {
   "cell_type": "code",
   "execution_count": 4,
   "metadata": {},
   "outputs": [
    {
     "data": {
      "text/plain": [
       "1"
      ]
     },
     "execution_count": 4,
     "metadata": {},
     "output_type": "execute_result"
    }
   ],
   "source": [
    "# insert a user named \"John Doe\"\n",
    "cursor.execute(\n",
    "    \"\"\"\n",
    "    INSERT INTO users(\n",
    "        first_name, last_name, email, password, location, dept, is_admin, register_date\n",
    "    ) VALUES (\n",
    "        'John', 'Doe', 'john@gmail.com', '12345', 'Texas', 'development', 1, now()\n",
    "    )\n",
    "    \"\"\"\n",
    ")"
   ]
  },
  {
   "cell_type": "code",
   "execution_count": 5,
   "metadata": {},
   "outputs": [
    {
     "data": {
      "text/plain": [
       "5"
      ]
     },
     "execution_count": 5,
     "metadata": {},
     "output_type": "execute_result"
    }
   ],
   "source": [
    "# insert multiple users\n",
    "cursor.execute(\n",
    "    \"\"\"\n",
    "    INSERT INTO users (\n",
    "        first_name, last_name, email, password, location, dept, is_admin, register_date\n",
    "    ) VALUES\n",
    "        ('Fred', 'Smith', 'fred@gmail.com', '12345', 'New York', 'design', 0, now()),\n",
    "        ('Sara', 'Watson', 'sara@gmail.com', '12345', 'New York', 'design', 0, now()),\n",
    "        ('Will', 'Jackson', 'will@yahoo.com', '12345', 'Rhode Island', 'development', 1, now()),\n",
    "        ('Paula', 'Johnson', 'paula@yahoo.com', '12345', 'Massachusetts', 'sales', 0, now()),\n",
    "        ('Tom', 'Spears', 'tom@yahoo.com', '12345', 'Massachusetts', 'sales', 0, now())\n",
    "    \"\"\"\n",
    ")"
   ]
  },
  {
   "cell_type": "markdown",
   "metadata": {},
   "source": [
    "# UPDATE\n",
    "Let's update a row from the \"users\" table."
   ]
  },
  {
   "cell_type": "code",
   "execution_count": 6,
   "metadata": {},
   "outputs": [
    {
     "data": {
      "text/plain": [
       "1"
      ]
     },
     "execution_count": 6,
     "metadata": {},
     "output_type": "execute_result"
    }
   ],
   "source": [
    "cursor.execute(\"UPDATE users SET email='freddy@gmail.com' WHERE id=2\")"
   ]
  },
  {
   "cell_type": "markdown",
   "metadata": {},
   "source": [
    "# DELETE\n",
    "Let's delete a row from the \"users\" table."
   ]
  },
  {
   "cell_type": "code",
   "execution_count": 7,
   "metadata": {},
   "outputs": [
    {
     "data": {
      "text/plain": [
       "1"
      ]
     },
     "execution_count": 7,
     "metadata": {},
     "output_type": "execute_result"
    }
   ],
   "source": [
    "# delete the user with id equal to 6\n",
    "cursor.execute(\"DELETE FROM users WHERE id=6\")"
   ]
  },
  {
   "cell_type": "markdown",
   "metadata": {},
   "source": [
    "# SELECT (Read)\n",
    "Let's read (select) users from the \"users\" table."
   ]
  },
  {
   "cell_type": "code",
   "execution_count": 8,
   "metadata": {},
   "outputs": [
    {
     "data": {
      "text/plain": [
       "[{'id': 1,\n",
       "  'first_name': 'John',\n",
       "  'last_name': 'Doe',\n",
       "  'email': 'john@gmail.com',\n",
       "  'password': '12345',\n",
       "  'location': 'Texas',\n",
       "  'dept': 'development',\n",
       "  'is_admin': 1,\n",
       "  'register_date': datetime.datetime(2019, 8, 12, 14, 55, 26)},\n",
       " {'id': 2,\n",
       "  'first_name': 'Fred',\n",
       "  'last_name': 'Smith',\n",
       "  'email': 'freddy@gmail.com',\n",
       "  'password': '12345',\n",
       "  'location': 'New York',\n",
       "  'dept': 'design',\n",
       "  'is_admin': 0,\n",
       "  'register_date': datetime.datetime(2019, 8, 12, 14, 55, 26)},\n",
       " {'id': 3,\n",
       "  'first_name': 'Sara',\n",
       "  'last_name': 'Watson',\n",
       "  'email': 'sara@gmail.com',\n",
       "  'password': '12345',\n",
       "  'location': 'New York',\n",
       "  'dept': 'design',\n",
       "  'is_admin': 0,\n",
       "  'register_date': datetime.datetime(2019, 8, 12, 14, 55, 26)},\n",
       " {'id': 4,\n",
       "  'first_name': 'Will',\n",
       "  'last_name': 'Jackson',\n",
       "  'email': 'will@yahoo.com',\n",
       "  'password': '12345',\n",
       "  'location': 'Rhode Island',\n",
       "  'dept': 'development',\n",
       "  'is_admin': 1,\n",
       "  'register_date': datetime.datetime(2019, 8, 12, 14, 55, 26)},\n",
       " {'id': 5,\n",
       "  'first_name': 'Paula',\n",
       "  'last_name': 'Johnson',\n",
       "  'email': 'paula@yahoo.com',\n",
       "  'password': '12345',\n",
       "  'location': 'Massachusetts',\n",
       "  'dept': 'sales',\n",
       "  'is_admin': 0,\n",
       "  'register_date': datetime.datetime(2019, 8, 12, 14, 55, 26)}]"
      ]
     },
     "execution_count": 8,
     "metadata": {},
     "output_type": "execute_result"
    }
   ],
   "source": [
    "# select all columns, denoted by the asterisk, of the \"users\" table\n",
    "cursor.execute(\"SELECT * FROM users\")\n",
    "cursor.fetchall()"
   ]
  },
  {
   "cell_type": "code",
   "execution_count": 9,
   "metadata": {},
   "outputs": [
    {
     "data": {
      "text/plain": [
       "[{'first_name': 'John', 'last_name': 'Doe'},\n",
       " {'first_name': 'Fred', 'last_name': 'Smith'},\n",
       " {'first_name': 'Sara', 'last_name': 'Watson'},\n",
       " {'first_name': 'Will', 'last_name': 'Jackson'},\n",
       " {'first_name': 'Paula', 'last_name': 'Johnson'}]"
      ]
     },
     "execution_count": 9,
     "metadata": {},
     "output_type": "execute_result"
    }
   ],
   "source": [
    "# select only the first and last name columns of the \"users\" table\n",
    "cursor.execute(\"SELECT first_name, last_name FROM users\")\n",
    "cursor.fetchall()"
   ]
  },
  {
   "cell_type": "code",
   "execution_count": 10,
   "metadata": {},
   "outputs": [
    {
     "data": {
      "text/plain": [
       "[{'first_name': 'John'}]"
      ]
     },
     "execution_count": 10,
     "metadata": {},
     "output_type": "execute_result"
    }
   ],
   "source": [
    "# select the first_name column where the user's location equals Texas\n",
    "cursor.execute(\"SELECT first_name FROM users WHERE location='Texas'\")\n",
    "cursor.fetchall()"
   ]
  },
  {
   "cell_type": "code",
   "execution_count": 11,
   "metadata": {},
   "outputs": [
    {
     "data": {
      "text/plain": [
       "[{'email': 'will@yahoo.com'}]"
      ]
     },
     "execution_count": 11,
     "metadata": {},
     "output_type": "execute_result"
    }
   ],
   "source": [
    "# select the email column where the user's location equals Rhode Island and is_admin > 0\n",
    "cursor.execute(\"SELECT email FROM users WHERE location='Rhode Island' AND is_admin > 0\")\n",
    "cursor.fetchall()"
   ]
  }
 ],
 "metadata": {
  "kernelspec": {
   "display_name": "Python 3",
   "language": "python",
   "name": "python3"
  },
  "language_info": {
   "codemirror_mode": {
    "name": "ipython",
    "version": 3
   },
   "file_extension": ".py",
   "mimetype": "text/x-python",
   "name": "python",
   "nbconvert_exporter": "python",
   "pygments_lexer": "ipython3",
   "version": "3.7.3"
  }
 },
 "nbformat": 4,
 "nbformat_minor": 2
}
