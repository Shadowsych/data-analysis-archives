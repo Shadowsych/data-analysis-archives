{
 "cells": [
  {
   "cell_type": "markdown",
   "metadata": {},
   "source": [
    "# Aggregate Functions\n",
    "These are built-in functions to the SQL language. Let's learn some of them!\n",
    "\n",
    "Let's first connect to the \"acme\" database as the \"pravat\" user."
   ]
  },
  {
   "cell_type": "code",
   "execution_count": 1,
   "metadata": {},
   "outputs": [],
   "source": [
    "# import the python mysql driver\n",
    "import pymysql"
   ]
  },
  {
   "cell_type": "code",
   "execution_count": 2,
   "metadata": {},
   "outputs": [],
   "source": [
    "# connect to the \"acme\" database as the \"pravat\" user\n",
    "connection = pymysql.connect(\n",
    "    host=\"localhost\",\n",
    "    user=\"pravat\",\n",
    "    password=\"12345\",\n",
    "    database=\"acme\",\n",
    "    autocommit=True\n",
    ")\n",
    "cursor = connection.cursor(pymysql.cursors.DictCursor)"
   ]
  },
  {
   "cell_type": "markdown",
   "metadata": {},
   "source": [
    "# Function Examples\n",
    "COUNT, MAX, MIN, SUM, UCASE, and LCASE are some examples of aggregate functions.\n",
    "\n",
    "Let's use these aggregate functions on the \"users\" table."
   ]
  },
  {
   "cell_type": "code",
   "execution_count": 35,
   "metadata": {},
   "outputs": [
    {
     "data": {
      "text/plain": [
       "[{'COUNT(id)': 5}]"
      ]
     },
     "execution_count": 35,
     "metadata": {},
     "output_type": "execute_result"
    }
   ],
   "source": [
    "# select the number of ids received from the query\n",
    "cursor.execute(\"SELECT COUNT(id) FROM users\")\n",
    "cursor.fetchall()"
   ]
  },
  {
   "cell_type": "code",
   "execution_count": 37,
   "metadata": {},
   "outputs": [
    {
     "data": {
      "text/plain": [
       "[{'MAX(id)': 5}]"
      ]
     },
     "execution_count": 37,
     "metadata": {},
     "output_type": "execute_result"
    }
   ],
   "source": [
    "# select the maximum (greatest) id from the query\n",
    "cursor.execute(\"SELECT MAX(id) FROM users\")\n",
    "cursor.fetchall()"
   ]
  },
  {
   "cell_type": "code",
   "execution_count": 38,
   "metadata": {},
   "outputs": [
    {
     "data": {
      "text/plain": [
       "[{'MIN(id)': 1}]"
      ]
     },
     "execution_count": 38,
     "metadata": {},
     "output_type": "execute_result"
    }
   ],
   "source": [
    "# select the minimum (smallest) id from the query\n",
    "cursor.execute(\"SELECT MIN(id) FROM users\")\n",
    "cursor.fetchall()"
   ]
  },
  {
   "cell_type": "code",
   "execution_count": 39,
   "metadata": {},
   "outputs": [
    {
     "data": {
      "text/plain": [
       "[{'SUM(id)': Decimal('15')}]"
      ]
     },
     "execution_count": 39,
     "metadata": {},
     "output_type": "execute_result"
    }
   ],
   "source": [
    "# sum up the ids from the query\n",
    "cursor.execute(\"SELECT SUM(id) FROM users\")\n",
    "cursor.fetchall()"
   ]
  },
  {
   "cell_type": "code",
   "execution_count": 40,
   "metadata": {},
   "outputs": [
    {
     "data": {
      "text/plain": [
       "[{'UCASE(first_name)': 'JOHN', 'LCASE(last_name)': 'doe'},\n",
       " {'UCASE(first_name)': 'FRED', 'LCASE(last_name)': 'smith'},\n",
       " {'UCASE(first_name)': 'SARA', 'LCASE(last_name)': 'watson'},\n",
       " {'UCASE(first_name)': 'WILL', 'LCASE(last_name)': 'jackson'},\n",
       " {'UCASE(first_name)': 'PAULA', 'LCASE(last_name)': 'johnson'}]"
      ]
     },
     "execution_count": 40,
     "metadata": {},
     "output_type": "execute_result"
    }
   ],
   "source": [
    "# select the upper case first names and and lower case last names from the query\n",
    "cursor.execute(\"SELECT UCASE(first_name), LCASE(last_name) FROM users\")\n",
    "cursor.fetchall()"
   ]
  },
  {
   "cell_type": "markdown",
   "metadata": {},
   "source": [
    "# SELECT GROUP BY\n",
    "Groups rows that have the same value into rows, often used with aggregate functions to group the result. Typically GROUP BY works well with aggregate functions since the function can quantify the values in its individual groups.\n",
    "\n",
    "Syntax Format for GROUP BY:\n",
    "```sql\n",
    "SELECT c1, c2, ... , cn, aggregate_function(ci)\n",
    "FROM table WHERE conditions GROUP BY c1, c2, ... cn;\n",
    "```\n",
    "- The ```aggregate_function``` is optional\n",
    "- The ```WHERE``` clause is optional\n",
    "\n",
    "Let's use the GROUP BY on the \"users\" table."
   ]
  },
  {
   "cell_type": "code",
   "execution_count": 67,
   "metadata": {},
   "outputs": [
    {
     "data": {
      "text/plain": [
       "[{'location': 'Texas', 'COUNT(location)': 1},\n",
       " {'location': 'New York', 'COUNT(location)': 2},\n",
       " {'location': 'Rhode Island', 'COUNT(location)': 1},\n",
       " {'location': 'Massachusetts', 'COUNT(location)': 1}]"
      ]
     },
     "execution_count": 67,
     "metadata": {},
     "output_type": "execute_result"
    }
   ],
   "source": [
    "# select the location and count how many locations, grouping each row with the same location\n",
    "cursor.execute(\"SELECT location, COUNT(location) FROM users GROUP BY location\")\n",
    "cursor.fetchall()"
   ]
  },
  {
   "cell_type": "markdown",
   "metadata": {},
   "source": [
    "# SELECT HAVING\n",
    "Unlike WHERE which applies to the condition on the rows before the rows are grouped together, HAVING is used after the rows are grouped into groups.\n",
    "\n",
    "Let's use HAVING on the \"users\" table."
   ]
  },
  {
   "cell_type": "code",
   "execution_count": 72,
   "metadata": {},
   "outputs": [
    {
     "data": {
      "text/plain": [
       "[{'location': 'Texas', 'location_count': 1},\n",
       " {'location': 'Rhode Island', 'location_count': 1},\n",
       " {'location': 'Massachusetts', 'location_count': 1}]"
      ]
     },
     "execution_count": 72,
     "metadata": {},
     "output_type": "execute_result"
    }
   ],
   "source": [
    "# group each row with the same location and get the locations with a COUNT equal to 1\n",
    "cursor.execute(\n",
    "    \"\"\"\n",
    "    SELECT location, COUNT(location) AS location_count FROM users\n",
    "    GROUP BY location HAVING location_count = 1\n",
    "    \"\"\"\n",
    ")\n",
    "cursor.fetchall()"
   ]
  }
 ],
 "metadata": {
  "kernelspec": {
   "display_name": "Python 3",
   "language": "python",
   "name": "python3"
  },
  "language_info": {
   "codemirror_mode": {
    "name": "ipython",
    "version": 3
   },
   "file_extension": ".py",
   "mimetype": "text/x-python",
   "name": "python",
   "nbconvert_exporter": "python",
   "pygments_lexer": "ipython3",
   "version": "3.7.3"
  }
 },
 "nbformat": 4,
 "nbformat_minor": 2
}
